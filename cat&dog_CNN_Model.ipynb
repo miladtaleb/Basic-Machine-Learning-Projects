{
  "cells": [
    {
      "cell_type": "code",
      "execution_count": 35,
      "metadata": {},
      "outputs": [],
      "source": [
        "import tensorflow as tf\n",
        "from tensorflow.keras.preprocessing.image import ImageDataGenerator,load_img, img_to_array\n",
        "from tensorflow.keras.models import Sequential\n",
        "from tensorflow.keras.layers import Dense, Conv2D, Flatten, MaxPooling2D, BatchNormalization\n",
        "from sklearn.model_selection import train_test_split\n",
        "import pandas as pd\n",
        "import numpy as np\n",
        "import matplotlib.pyplot as plt\n",
        "from glob import glob\n",
        "import shutil\n",
        "import os"
      ]
    },
    {
      "cell_type": "code",
      "execution_count": 3,
      "metadata": {
        "id": "cv6ojG14gGxY"
      },
      "outputs": [
        {
          "name": "stdout",
          "output_type": "stream",
          "text": [
            "--2025-02-15 19:12:07--  http://google.com/\n",
            "Resolving google.com (google.com)... 216.239.38.120, 2001:4860:4802:32::78\n",
            "Connecting to google.com (google.com)|216.239.38.120|:80... connected.\n",
            "HTTP request sent, awaiting response... 301 Moved Permanently\n",
            "Location: http://www.google.com/ [following]\n",
            "--2025-02-15 19:12:08--  http://www.google.com/\n",
            "Resolving www.google.com (www.google.com)... 216.239.38.120, 2001:4860:4802:32::78\n",
            "Reusing existing connection to google.com:80.\n",
            "HTTP request sent, awaiting response... 200 OK\n",
            "Length: unspecified [text/html]\n",
            "Saving to: ‘index.html’\n",
            "\n",
            "index.html              [ <=>                ]  18.16K  --.-KB/s    in 0.03s   \n",
            "\n",
            "2025-02-15 19:12:08 (533 KB/s) - ‘index.html’ saved [18592]\n",
            "\n"
          ]
        }
      ],
      "source": [
        "!wget google.com"
      ]
    },
    {
      "cell_type": "code",
      "execution_count": 4,
      "metadata": {
        "colab": {
          "base_uri": "https://localhost:8080/"
        },
        "id": "cA1xaF9efxBC",
        "outputId": "8dd6e408-46b7-4259-d167-e4dcbe6ce496"
      },
      "outputs": [
        {
          "name": "stdout",
          "output_type": "stream",
          "text": [
            "--2025-02-15 19:12:13--  https://download.microsoft.com/download/3/E/1/3E1C3F21-ECDB-4869-8368-6DEBA77B919F/kagglecatsanddogs_5340.zip\n",
            "Resolving download.microsoft.com (download.microsoft.com)... 184.86.118.65, 2a02:26f0:8d00:d8d::317f, 2a02:26f0:8d00:d82::317f\n",
            "Connecting to download.microsoft.com (download.microsoft.com)|184.86.118.65|:443... connected.\n",
            "HTTP request sent, awaiting response... 200 OK\n",
            "Length: 824887076 (787M) [application/octet-stream]\n",
            "Saving to: ‘kagglecatsanddogs_5340.zip’\n",
            "\n",
            "kagglecatsanddogs_5 100%[===================>] 786.67M  3.78MB/s    in 10m 23s \n",
            "\n",
            "2025-02-15 19:22:36 (1.26 MB/s) - ‘kagglecatsanddogs_5340.zip’ saved [824887076/824887076]\n",
            "\n"
          ]
        }
      ],
      "source": [
        "!wget --no-check-certificate \\\n",
        "    \"https://download.microsoft.com/download/3/E/1/3E1C3F21-ECDB-4869-8368-6DEBA77B919F/kagglecatsanddogs_5340.zip\""
      ]
    },
    {
      "cell_type": "code",
      "execution_count": 7,
      "metadata": {
        "colab": {
          "base_uri": "https://localhost:8080/"
        },
        "id": "xrDZTTieggI4",
        "outputId": "40a598f5-58ec-41c8-a073-8555b29cebb6"
      },
      "outputs": [],
      "source": [
        "!unzip -xq './kagglecatsanddogs_5340.zip'"
      ]
    },
    {
      "cell_type": "code",
      "execution_count": 9,
      "metadata": {
        "colab": {
          "base_uri": "https://localhost:8080/"
        },
        "id": "zgQ6cv4ufu9e",
        "outputId": "ee2e3f3c-9168-4539-a318-89f241d73e06"
      },
      "outputs": [
        {
          "data": {
            "text/plain": [
              "2"
            ]
          },
          "execution_count": 9,
          "metadata": {},
          "output_type": "execute_result"
        }
      ],
      "source": [
        "count=0\n",
        "for path in glob('./PetImages/*/*'):\n",
        "  if not os.path.getsize(path):\n",
        "    count+=1\n",
        "    os.remove(path)\n",
        "count"
      ]
    },
    {
      "cell_type": "code",
      "execution_count": 12,
      "metadata": {
        "id": "vVvvMAI4eD04"
      },
      "outputs": [],
      "source": [
        "folder='./dataset'\n",
        "\n",
        "train_cats_dir=f'{folder}/training/cats'\n",
        "train_dogs_dir=f'{folder}/training/dogs'\n",
        "\n",
        "\n",
        "test_cats_dir=f'{folder}/testing/cats'\n",
        "test_dogs_dir=f'{folder}/testing/dogs'\n",
        "\n",
        "folders=[\n",
        "    train_cats_dir,\n",
        "    train_dogs_dir,\n",
        "    test_cats_dir,\n",
        "    test_dogs_dir,\n",
        "]\n",
        "\n",
        "for f in folders:\n",
        "  os.makedirs(f)"
      ]
    },
    {
      "cell_type": "code",
      "execution_count": 13,
      "metadata": {
        "colab": {
          "base_uri": "https://localhost:8080/"
        },
        "id": "eMN_dZmNiUl5",
        "outputId": "7e6a5056-8f40-48e9-8f20-e4def813e6a3"
      },
      "outputs": [
        {
          "data": {
            "text/plain": [
              "(12500, 12500)"
            ]
          },
          "execution_count": 13,
          "metadata": {},
          "output_type": "execute_result"
        }
      ],
      "source": [
        "all_cats=sorted(glob('./PetImages/Cat/*'))\n",
        "all_dogs=sorted(glob('./PetImages/Dog/*'))\n",
        "len(all_cats),len(all_dogs)"
      ]
    },
    {
      "cell_type": "code",
      "execution_count": 14,
      "metadata": {
        "colab": {
          "base_uri": "https://localhost:8080/"
        },
        "id": "ZEA3XPl9iUhY",
        "outputId": "d8fb034a-6389-4ad5-f48d-e73b99abc128"
      },
      "outputs": [
        {
          "data": {
            "text/plain": [
              "(11250, 1250)"
            ]
          },
          "execution_count": 14,
          "metadata": {},
          "output_type": "execute_result"
        }
      ],
      "source": [
        "dogs_train,dogs_test=train_test_split(all_dogs,test_size=0.1,shuffle=True,random_state=1403)\n",
        "len(dogs_train),len(dogs_test)"
      ]
    },
    {
      "cell_type": "code",
      "execution_count": 15,
      "metadata": {
        "colab": {
          "base_uri": "https://localhost:8080/"
        },
        "id": "jbmpafI_iUex",
        "outputId": "cac0a3b3-0976-4038-e5fa-8a4fad92e648"
      },
      "outputs": [
        {
          "data": {
            "text/plain": [
              "(11250, 1250)"
            ]
          },
          "execution_count": 15,
          "metadata": {},
          "output_type": "execute_result"
        }
      ],
      "source": [
        "cats_train,cats_test=train_test_split(all_cats,test_size=0.1,shuffle=True,random_state=1403)\n",
        "len(cats_train),len(cats_test)"
      ]
    },
    {
      "cell_type": "code",
      "execution_count": 16,
      "metadata": {
        "colab": {
          "base_uri": "https://localhost:8080/",
          "height": 35
        },
        "id": "tA66bXAwiUcK",
        "outputId": "96e90869-2a7e-4aee-b673-7ec3f811f167"
      },
      "outputs": [
        {
          "data": {
            "text/plain": [
              "'./PetImages/Dog/9388.jpg'"
            ]
          },
          "execution_count": 16,
          "metadata": {},
          "output_type": "execute_result"
        }
      ],
      "source": [
        "dogs_train[0]"
      ]
    },
    {
      "cell_type": "code",
      "execution_count": 17,
      "metadata": {
        "id": "mtQWfR41iySr"
      },
      "outputs": [],
      "source": [
        "for name in dogs_train:\n",
        "  shutil.copy(name,os.path.join(train_dogs_dir,name.split('/')[-1]))"
      ]
    },
    {
      "cell_type": "code",
      "execution_count": 18,
      "metadata": {
        "colab": {
          "base_uri": "https://localhost:8080/"
        },
        "id": "bcQgEiKIiyQC",
        "outputId": "89ef4579-79ab-406c-e911-12e4246afa41"
      },
      "outputs": [
        {
          "data": {
            "text/plain": [
              "11250"
            ]
          },
          "execution_count": 18,
          "metadata": {},
          "output_type": "execute_result"
        }
      ],
      "source": [
        "len(os.listdir(train_dogs_dir))"
      ]
    },
    {
      "cell_type": "code",
      "execution_count": 20,
      "metadata": {
        "id": "iAjJpLgLiyNI"
      },
      "outputs": [],
      "source": [
        "for name in dogs_test:\n",
        "  shutil.copy(name,os.path.join(test_dogs_dir,name.split('/')[-1]))\n",
        "\n",
        "\n",
        "for name in cats_train:\n",
        "  shutil.copy(name,os.path.join(train_cats_dir,name.split('/')[-1]))\n",
        "\n",
        "for name in cats_test:\n",
        "  shutil.copy(name,os.path.join(test_cats_dir,name.split('/')[-1]))"
      ]
    },
    {
      "cell_type": "code",
      "execution_count": 21,
      "metadata": {
        "colab": {
          "base_uri": "https://localhost:8080/"
        },
        "id": "SsUqTALNiUZY",
        "outputId": "e5961f38-726d-4717-a8b8-96e60144e4a6"
      },
      "outputs": [
        {
          "data": {
            "text/plain": [
              "(1250, 11250, 1250)"
            ]
          },
          "execution_count": 21,
          "metadata": {},
          "output_type": "execute_result"
        }
      ],
      "source": [
        "len(os.listdir(test_dogs_dir)),len(os.listdir(train_cats_dir)),len(os.listdir(test_cats_dir))"
      ]
    },
    {
      "cell_type": "code",
      "execution_count": 22,
      "metadata": {
        "colab": {
          "base_uri": "https://localhost:8080/"
        },
        "id": "OR_h0G_eiUWn",
        "outputId": "f1c302ad-b752-4781-99a6-227a7bc37794"
      },
      "outputs": [
        {
          "name": "stdout",
          "output_type": "stream",
          "text": [
            "Found 22498 images belonging to 2 classes.\n"
          ]
        }
      ],
      "source": [
        "training_dir='./dataset/training'\n",
        "train_datagen = ImageDataGenerator(rescale=1./255,validation_split=0.2)\n",
        "train_generator = train_datagen.flow_from_directory(training_dir,batch_size=64,class_mode='binary',target_size=(150,150))"
      ]
    },
    {
      "cell_type": "code",
      "execution_count": 23,
      "metadata": {
        "colab": {
          "base_uri": "https://localhost:8080/"
        },
        "id": "3aYDkp0ziUTo",
        "outputId": "b035e2ae-e08e-48d5-9870-1d86a0e6ecaa"
      },
      "outputs": [
        {
          "name": "stdout",
          "output_type": "stream",
          "text": [
            "Found 2500 images belonging to 2 classes.\n"
          ]
        }
      ],
      "source": [
        "testing_dir='./dataset/testing'\n",
        "test_datagen = ImageDataGenerator(rescale=1./255,validation_split=0.2)\n",
        "test_generator = test_datagen.flow_from_directory(testing_dir,batch_size=64,class_mode='binary',target_size=(150,150))"
      ]
    },
    {
      "cell_type": "code",
      "execution_count": 29,
      "metadata": {
        "id": "Fu_fxKxpiUQ4"
      },
      "outputs": [],
      "source": [
        "model = Sequential([\n",
        "    Conv2D(32, (3, 3), activation='relu', input_shape=(150, 150, 3)),\n",
        "    MaxPooling2D(2, 2),\n",
        "    Conv2D(64, (3, 3), activation='relu'),\n",
        "    BatchNormalization(),\n",
        "    MaxPooling2D(2, 2),\n",
        "\n",
        "    Flatten(),\n",
        "    Dense(128, activation='relu'),\n",
        "    BatchNormalization(),\n",
        "    Dense(1, activation='sigmoid')\n",
        "])\n",
        "\n",
        "model.compile(optimizer='adam',loss='binary_crossentropy',metrics=['accuracy'])"
      ]
    },
    {
      "cell_type": "code",
      "execution_count": 36,
      "metadata": {},
      "outputs": [
        {
          "name": "stdout",
          "output_type": "stream",
          "text": [
            "Model: \"sequential_1\"\n",
            "_________________________________________________________________\n",
            " Layer (type)                Output Shape              Param #   \n",
            "=================================================================\n",
            " conv2d_2 (Conv2D)           (None, 148, 148, 32)      896       \n",
            "                                                                 \n",
            " max_pooling2d_2 (MaxPooling  (None, 74, 74, 32)       0         \n",
            " 2D)                                                             \n",
            "                                                                 \n",
            " conv2d_3 (Conv2D)           (None, 72, 72, 64)        18496     \n",
            "                                                                 \n",
            " batch_normalization_2 (Batc  (None, 72, 72, 64)       256       \n",
            " hNormalization)                                                 \n",
            "                                                                 \n",
            " max_pooling2d_3 (MaxPooling  (None, 36, 36, 64)       0         \n",
            " 2D)                                                             \n",
            "                                                                 \n",
            " flatten_1 (Flatten)         (None, 82944)             0         \n",
            "                                                                 \n",
            " dense_2 (Dense)             (None, 128)               10616960  \n",
            "                                                                 \n",
            " batch_normalization_3 (Batc  (None, 128)              512       \n",
            " hNormalization)                                                 \n",
            "                                                                 \n",
            " dense_3 (Dense)             (None, 1)                 129       \n",
            "                                                                 \n",
            "=================================================================\n",
            "Total params: 10,637,249\n",
            "Trainable params: 10,636,865\n",
            "Non-trainable params: 384\n",
            "_________________________________________________________________\n"
          ]
        }
      ],
      "source": [
        "model.summary()"
      ]
    },
    {
      "cell_type": "code",
      "execution_count": null,
      "metadata": {
        "id": "fWap2i1eKmcX"
      },
      "outputs": [
        {
          "name": "stdout",
          "output_type": "stream",
          "text": [
            "Epoch 1/3\n",
            "237/352 [===================>..........] - ETA: 5:11 - loss: 0.4972 - accuracy: 0.7600"
          ]
        },
        {
          "name": "stderr",
          "output_type": "stream",
          "text": [
            "/home/milad/.local/lib/python3.10/site-packages/PIL/TiffImagePlugin.py:949: UserWarning: Truncated File Read\n",
            "  warnings.warn(str(msg))\n"
          ]
        },
        {
          "name": "stdout",
          "output_type": "stream",
          "text": [
            "352/352 [==============================] - 977s 3s/step - loss: 0.4916 - accuracy: 0.7633 - val_loss: 0.5766 - val_accuracy: 0.6956\n",
            "Epoch 2/3\n",
            "352/352 [==============================] - 962s 3s/step - loss: 0.3969 - accuracy: 0.8215 - val_loss: 0.6226 - val_accuracy: 0.7020\n",
            "Epoch 3/3\n",
            "134/352 [==========>...................] - ETA: 10:21 - loss: 0.2650 - accuracy: 0.8920"
          ]
        }
      ],
      "source": [
        "history = model.fit(train_generator,epochs=3,validation_data=test_generator)"
      ]
    },
    {
      "cell_type": "code",
      "execution_count": null,
      "metadata": {},
      "outputs": [],
      "source": [
        "history_df = pd.DataFrame(history.history)\n",
        "history_df.loc[:, ['loss', 'val_loss']].plot()\n",
        "history_df.loc[:, ['accuracy', 'val_accuracy']].plot()\n",
        "plt.show()"
      ]
    },
    {
      "cell_type": "code",
      "execution_count": null,
      "metadata": {},
      "outputs": [],
      "source": [
        "test_image = load_img('1.jpg',target_size=(150,150))\n",
        "plt.imshow(test_image)\n",
        "\n",
        "test_image = img_to_array(test_image)\n",
        "test_image = np.expand_dims(test_image,axis=0)\n",
        "result = model.predict(test_image)\n",
        "print(\"Dog\") if(result>=0.5) else print(\"Cat\")"
      ]
    }
  ],
  "metadata": {
    "accelerator": "GPU",
    "colab": {
      "gpuType": "T4",
      "provenance": []
    },
    "kernelspec": {
      "display_name": "Python 3",
      "name": "python3"
    },
    "language_info": {
      "codemirror_mode": {
        "name": "ipython",
        "version": 3
      },
      "file_extension": ".py",
      "mimetype": "text/x-python",
      "name": "python",
      "nbconvert_exporter": "python",
      "pygments_lexer": "ipython3",
      "version": "3.10.12"
    }
  },
  "nbformat": 4,
  "nbformat_minor": 0
}

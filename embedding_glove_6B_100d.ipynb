{
 "cells": [
  {
   "cell_type": "code",
   "execution_count": 8,
   "metadata": {},
   "outputs": [],
   "source": [
    "import numpy as np\n",
    "from sklearn.metrics.pairwise import cosine_similarity\n",
    "from sklearn.decomposition import PCA\n",
    "import matplotlib.pyplot as plt"
   ]
  },
  {
   "cell_type": "code",
   "execution_count": 2,
   "metadata": {},
   "outputs": [
    {
     "data": {
      "text/plain": [
       "400000"
      ]
     },
     "execution_count": 2,
     "metadata": {},
     "output_type": "execute_result"
    }
   ],
   "source": [
    "dir = '/home/milad/Desktop/python/AI/DL/Mini_project/db/glove.6B'\n",
    "embeddings_index = {}\n",
    "with open(f'{dir}/glove.6B.100d.txt',encoding='utf-8') as f:\n",
    "  lines = f.readlines()\n",
    "  for line in lines:\n",
    "    values = line.split()\n",
    "    word = values[0]\n",
    "    embed = values[1:]\n",
    "    weights = np.asarray(embed,dtype = 'float32')\n",
    "    embeddings_index[word] = weights\n",
    "\n",
    "len(embeddings_index.keys())"
   ]
  },
  {
   "cell_type": "code",
   "execution_count": 5,
   "metadata": {},
   "outputs": [
    {
     "data": {
      "text/plain": [
       "array([ 0.64706 , -0.068067,  0.15468 , -0.17408 , -0.29134 ,  0.76999 ,\n",
       "       -0.3192  , -0.25663 , -0.25082 , -0.036737, -0.25509 ,  0.29636 ,\n",
       "        0.5776  ,  0.49641 ,  0.19167 , -0.83888 ,  0.58482 , -0.38717 ,\n",
       "       -0.71591 ,  0.9519  , -0.37966 , -0.1131  ,  0.47154 ,  0.20921 ,\n",
       "        0.38197 ,  0.067582, -0.92879 , -1.1237  ,  0.84831 ,  0.68744 ,\n",
       "       -0.15472 ,  0.92714 ,  0.53371 , -0.037392, -0.856   ,  0.19056 ,\n",
       "       -0.014594,  0.15186 ,  0.53514 , -0.20306 , -0.35164 ,  0.33152 ,\n",
       "        1.1306  , -0.72787 , -0.19724 ,  0.031659, -0.24041 , -0.057617,\n",
       "        0.60473 , -0.49233 , -0.24405 , -0.3184  ,  0.96156 ,  1.0895  ,\n",
       "        0.21534 , -2.0542  , -1.0615  ,  0.052439,  0.57958 ,  0.2748  ,\n",
       "        0.91587 ,  0.85195 ,  0.36113 , -0.31901 ,  0.7784  , -0.36865 ,\n",
       "        0.64387 ,  0.33104 , -0.27181 ,  0.58524 , -0.15143 ,  0.11121 ,\n",
       "        0.2126  , -0.60345 ,  0.16148 ,  0.32952 , -0.1354  , -0.30629 ,\n",
       "       -0.89143 ,  0.091912,  0.49753 ,  0.55932 ,  0.19329 ,  0.044859,\n",
       "       -1.0416  , -0.41566 , -0.54174 , -0.7244  , -0.57492 , -1.1188  ,\n",
       "        0.087097, -0.2992  ,  0.87227 ,  0.86996 , -0.89641 , -0.28259 ,\n",
       "       -0.47295 , -0.74062 , -0.39    , -0.78099 ], dtype=float32)"
      ]
     },
     "execution_count": 5,
     "metadata": {},
     "output_type": "execute_result"
    }
   ],
   "source": [
    "embeddings_index['father']"
   ]
  },
  {
   "cell_type": "code",
   "execution_count": 10,
   "metadata": {},
   "outputs": [],
   "source": [
    "words = ['father','china','chinese','iran','india','man','woman','son']"
   ]
  },
  {
   "cell_type": "code",
   "execution_count": 11,
   "metadata": {},
   "outputs": [],
   "source": [
    "vectors = np.array([embeddings_index[w] for w in words])"
   ]
  },
  {
   "cell_type": "code",
   "execution_count": 12,
   "metadata": {},
   "outputs": [
    {
     "data": {
      "text/plain": [
       "((8, 100), (8, 2))"
      ]
     },
     "execution_count": 12,
     "metadata": {},
     "output_type": "execute_result"
    }
   ],
   "source": [
    "pca = PCA(n_components=2)\n",
    "pca.fit(vectors)\n",
    "x_emb=pca.transform(vectors)\n",
    "vectors.shape,x_emb.shape"
   ]
  },
  {
   "cell_type": "code",
   "execution_count": 13,
   "metadata": {},
   "outputs": [
    {
     "data": {
      "text/plain": [
       "(array([-3.3260221 , -0.47949806], dtype=float32),\n",
       " array([-3.4997816, -0.6605845], dtype=float32))"
      ]
     },
     "execution_count": 13,
     "metadata": {},
     "output_type": "execute_result"
    }
   ],
   "source": [
    "x_emb[0],x_emb[-1]"
   ]
  },
  {
   "cell_type": "code",
   "execution_count": 14,
   "metadata": {},
   "outputs": [
    {
     "name": "stderr",
     "output_type": "stream",
     "text": [
      "No artists with labels found to put in legend.  Note that artists whose label start with an underscore are ignored when legend() is called with no argument.\n"
     ]
    },
    {
     "data": {
      "text/plain": [
       "<matplotlib.legend.Legend at 0x792109bb5ed0>"
      ]
     },
     "execution_count": 14,
     "metadata": {},
     "output_type": "execute_result"
    },
    {
     "data": {
      "image/png": "[encoded data removed]",
      "text/plain": [
       "<Figure size 640x480 with 1 Axes>"
      ]
     },
     "metadata": {},
     "output_type": "display_data"
    }
   ],
   "source": [
    "plt.scatter(x_emb[:,0],x_emb[:,1])\n",
    "for label, x, y in zip(words, x_emb[:, 0], x_emb[:, 1]):\n",
    "  plt.annotate(label, xy=(x, y), xytext=(0, 0), textcoords=\"offset points\")\n",
    "plt.legend()"
   ]
  },
  {
   "cell_type": "code",
   "execution_count": 6,
   "metadata": {},
   "outputs": [],
   "source": [
    "father = embeddings_index['father']\n",
    "mother = embeddings_index['mother']\n",
    "tehran = embeddings_index['tehran']\n",
    "paris = embeddings_index['paris']\n",
    "france = embeddings_index['france']\n",
    "iran = embeddings_index['iran']"
   ]
  },
  {
   "cell_type": "code",
   "execution_count": 8,
   "metadata": {},
   "outputs": [
    {
     "data": {
      "text/plain": [
       "(1, 100)"
      ]
     },
     "execution_count": 8,
     "metadata": {},
     "output_type": "execute_result"
    }
   ],
   "source": [
    "father.reshape(1,-1).shape"
   ]
  },
  {
   "cell_type": "code",
   "execution_count": 9,
   "metadata": {},
   "outputs": [],
   "source": [
    "def similarity(u,v):\n",
    "  return np.squeeze(cosine_similarity(u.reshape(1,-1),v.reshape(1,-1)))"
   ]
  },
  {
   "cell_type": "code",
   "execution_count": 10,
   "metadata": {},
   "outputs": [
    {
     "data": {
      "text/plain": [
       "array(0.8656661, dtype=float32)"
      ]
     },
     "execution_count": 10,
     "metadata": {},
     "output_type": "execute_result"
    }
   ],
   "source": [
    "similarity(father,mother)"
   ]
  },
  {
   "cell_type": "code",
   "execution_count": 11,
   "metadata": {},
   "outputs": [
    {
     "data": {
      "text/plain": [
       "array(0.45368147, dtype=float32)"
      ]
     },
     "execution_count": 11,
     "metadata": {},
     "output_type": "execute_result"
    }
   ],
   "source": [
    "similarity(tehran,paris)"
   ]
  },
  {
   "cell_type": "code",
   "execution_count": 12,
   "metadata": {},
   "outputs": [
    {
     "data": {
      "text/plain": [
       "array(0.46655208, dtype=float32)"
      ]
     },
     "execution_count": 12,
     "metadata": {},
     "output_type": "execute_result"
    }
   ],
   "source": [
    "similarity(france,iran)"
   ]
  },
  {
   "cell_type": "code",
   "execution_count": 13,
   "metadata": {},
   "outputs": [
    {
     "data": {
      "text/plain": [
       "array(0.6854124, dtype=float32)"
      ]
     },
     "execution_count": 13,
     "metadata": {},
     "output_type": "execute_result"
    }
   ],
   "source": [
    "similarity(france - paris,iran - tehran)"
   ]
  },
  {
   "cell_type": "code",
   "execution_count": 14,
   "metadata": {},
   "outputs": [
    {
     "data": {
      "text/plain": [
       "array(-0.6854124, dtype=float32)"
      ]
     },
     "execution_count": 14,
     "metadata": {},
     "output_type": "execute_result"
    }
   ],
   "source": [
    "similarity(france - paris,tehran - iran)"
   ]
  },
  {
   "cell_type": "code",
   "execution_count": 16,
   "metadata": {},
   "outputs": [],
   "source": [
    "def complete_analogy(word_a,word_b,word_c,embeddings_index):\n",
    "  word_a,word_b,word_c = word_a.lower(),word_b.lower(),word_c.lower()\n",
    "  embed_a,embed_b,embed_c = embeddings_index[word_a],embeddings_index[word_b],embeddings_index[word_c]\n",
    "  words = embeddings_index.keys()\n",
    "  max_cosine_sim = float('-inf')\n",
    "  best_word = None\n",
    "\n",
    "  for w in words:\n",
    "    if w in [word_a,word_b,word_c]:\n",
    "      continue\n",
    "\n",
    "    cosine_sim = similarity(embed_b - embed_a, embeddings_index[w] - embed_c)\n",
    "\n",
    "    if cosine_sim > max_cosine_sim:\n",
    "      max_cosine_sim = cosine_sim\n",
    "      best_word = w\n",
    "\n",
    "  return best_word"
   ]
  },
  {
   "cell_type": "code",
   "execution_count": 17,
   "metadata": {},
   "outputs": [
    {
     "data": {
      "text/plain": [
       "'iranian'"
      ]
     },
     "execution_count": 17,
     "metadata": {},
     "output_type": "execute_result"
    }
   ],
   "source": [
    "complete_analogy('china','chinese','iran',embeddings_index)"
   ]
  },
  {
   "cell_type": "code",
   "execution_count": 18,
   "metadata": {},
   "outputs": [],
   "source": [
    "def complete_analogy2(word_a,word_b,word_c,embeddings_index,limit=5):\n",
    "  word_a,word_b,word_c = word_a.lower(),word_b.lower(),word_c.lower()\n",
    "  embed_a,embed_b,embed_c = embeddings_index[word_a],embeddings_index[word_b],embeddings_index[word_c]\n",
    "  words = embeddings_index.keys()\n",
    "  max_cosine_sim = float('-inf')\n",
    "  best_word = {}\n",
    "\n",
    "  for w in words:\n",
    "    if w in [word_a,word_b,word_c]:\n",
    "      continue\n",
    "\n",
    "    cosine_sim = similarity(embed_b - embed_a, embeddings_index[w] - embed_c)\n",
    "\n",
    "    if cosine_sim > max_cosine_sim:\n",
    "      max_cosine_sim = cosine_sim\n",
    "      best_word[w] = cosine_sim\n",
    "\n",
    "  return sorted(best_word.items(),key = lambda x:x[1],reverse=True)[:limit]"
   ]
  },
  {
   "cell_type": "code",
   "execution_count": 15,
   "metadata": {},
   "outputs": [
    {
     "data": {
      "text/plain": [
       "[('iranian', array(0.796303, dtype=float32)),\n",
       " ('turkish', array(0.6328089, dtype=float32)),\n",
       " ('greek', array(0.60495967, dtype=float32)),\n",
       " ('iraqi', array(0.57764673, dtype=float32)),\n",
       " ('russian', array(0.5115686, dtype=float32))]"
      ]
     },
     "execution_count": 15,
     "metadata": {},
     "output_type": "execute_result"
    }
   ],
   "source": [
    "complete_analogy2('china','chinese','iran', embeddings_index)"
   ]
  }
 ],
 "metadata": {
  "kernelspec": {
   "display_name": "Python 3",
   "language": "python",
   "name": "python3"
  },
  "language_info": {
   "codemirror_mode": {
    "name": "ipython",
    "version": 3
   },
   "file_extension": ".py",
   "mimetype": "text/x-python",
   "name": "python",
   "nbconvert_exporter": "python",
   "pygments_lexer": "ipython3",
   "version": "3.10.12"
  }
 },
 "nbformat": 4,
 "nbformat_minor": 2
}

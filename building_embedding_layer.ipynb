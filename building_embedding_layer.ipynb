{
 "cells": [
  {
   "cell_type": "code",
   "execution_count": 20,
   "metadata": {},
   "outputs": [
    {
     "name": "stderr",
     "output_type": "stream",
     "text": [
      "2025-02-16 16:21:39.547576: W tensorflow/compiler/xla/stream_executor/platform/default/dso_loader.cc:64] Could not load dynamic library 'libnvinfer.so.7'; dlerror: libnvinfer.so.7: cannot open shared object file: No such file or directory\n",
      "2025-02-16 16:21:39.551031: W tensorflow/compiler/xla/stream_executor/platform/default/dso_loader.cc:64] Could not load dynamic library 'libnvinfer_plugin.so.7'; dlerror: libnvinfer_plugin.so.7: cannot open shared object file: No such file or directory\n",
      "2025-02-16 16:21:39.551058: W tensorflow/compiler/tf2tensorrt/utils/py_utils.cc:38] TF-TRT Warning: Cannot dlopen some TensorRT libraries. If you would like to use Nvidia GPU with TensorRT, please make sure the missing libraries mentioned above are installed properly.\n"
     ]
    }
   ],
   "source": [
    "import numpy as np\n",
    "from tensorflow.keras.layers import Embedding"
   ]
  },
  {
   "cell_type": "code",
   "execution_count": null,
   "metadata": {},
   "outputs": [
    {
     "data": {
      "text/plain": [
       "400000"
      ]
     },
     "execution_count": 2,
     "metadata": {},
     "output_type": "execute_result"
    }
   ],
   "source": [
    "dir = '/home/milad/Desktop/python/AI/DL/Mini_project/db/glove.6B'\n",
    "embeddings_index = {}\n",
    "words_to_index = {}\n",
    "index_to_words = {}\n",
    "with open(f'{dir}/glove.6B.100d.txt',encoding = 'utf-8') as f:\n",
    "  lines = f.readlines()\n",
    "  words = set()\n",
    "  for line in lines:\n",
    "    values = line.split()\n",
    "    word = values[0]\n",
    "    embed = values[1:]\n",
    "    weights = np.asarray(embed,dtype = 'float32')\n",
    "    embeddings_index[word] = weights\n",
    "    words.add(word)\n",
    "\n",
    "  i = 1\n",
    "  for w in sorted(words):\n",
    "    words_to_index[w] = i\n",
    "    index_to_words[i] = w\n",
    "    i += 1\n",
    "\n",
    "len(embeddings_index.keys())\n"
   ]
  },
  {
   "cell_type": "code",
   "execution_count": 3,
   "metadata": {},
   "outputs": [
    {
     "data": {
      "text/plain": [
       "318272"
      ]
     },
     "execution_count": 3,
     "metadata": {},
     "output_type": "execute_result"
    }
   ],
   "source": [
    "word = 'sara'\n",
    "words_to_index[word]"
   ]
  },
  {
   "cell_type": "code",
   "execution_count": 4,
   "metadata": {},
   "outputs": [
    {
     "data": {
      "text/plain": [
       "'sara'"
      ]
     },
     "execution_count": 4,
     "metadata": {},
     "output_type": "execute_result"
    }
   ],
   "source": [
    "index_to_words[318272]"
   ]
  },
  {
   "cell_type": "code",
   "execution_count": 7,
   "metadata": {},
   "outputs": [],
   "source": [
    "def senetences_to_indices(X,word_to_idx,max_len):\n",
    "  m = X.shape[0]\n",
    "  X_indices = np.zeros((m,max_len))\n",
    "  for i in range(m):\n",
    "    sentence_words = X[i].lower().split()\n",
    "    for j,w in enumerate(sentence_words):\n",
    "      X_indices[i,j] = word_to_idx[w]\n",
    "  return X_indices"
   ]
  },
  {
   "cell_type": "code",
   "execution_count": 19,
   "metadata": {},
   "outputs": [
    {
     "name": "stdout",
     "output_type": "stream",
     "text": [
      "['funny' 'lets go party' 'food is ready for you']\n",
      "[[155345.      0.      0.      0.      0.]\n",
      " [220930. 163237. 278093.      0.      0.]\n",
      " [151204. 192973. 302254. 151349. 394475.]]\n"
     ]
    }
   ],
   "source": [
    "X = np.array(['funny','lets go party','food is ready for you'])\n",
    "max_sen = np.asarray([len(X[i].split()) for i in range(len(X))]).max()\n",
    "X_indices = senetences_to_indices(X,words_to_index,max_len = max_sen)\n",
    "print(X)\n",
    "print(X_indices)"
   ]
  },
  {
   "cell_type": "code",
   "execution_count": 22,
   "metadata": {},
   "outputs": [],
   "source": [
    "def pretrained_embedding_layer(embeddings_index,words_to_index):\n",
    "  vocab_len = len(words_to_index) + 1 \n",
    "  emb_dim = embeddings_index['ali'].shape[0]\n",
    "  emb_matrix = np.zeros((vocab_len,emb_dim))\n",
    "  for word,index in words_to_index.items():\n",
    "    emb_matrix[index,:] = embeddings_index[word]\n",
    "  embedding_layer = Embedding(vocab_len,emb_dim,trainable = False)\n",
    "  embedding_layer.build((None,))\n",
    "  embedding_layer.set_weights([emb_matrix])\n",
    "  return embedding_layer"
   ]
  },
  {
   "cell_type": "code",
   "execution_count": 23,
   "metadata": {},
   "outputs": [
    {
     "name": "stderr",
     "output_type": "stream",
     "text": [
      "2025-02-16 16:23:58.618502: W tensorflow/compiler/xla/stream_executor/platform/default/dso_loader.cc:64] Could not load dynamic library 'libcuda.so.1'; dlerror: libcuda.so.1: cannot open shared object file: No such file or directory\n",
      "2025-02-16 16:23:58.619745: W tensorflow/compiler/xla/stream_executor/cuda/cuda_driver.cc:265] failed call to cuInit: UNKNOWN ERROR (303)\n",
      "2025-02-16 16:23:58.619802: I tensorflow/compiler/xla/stream_executor/cuda/cuda_diagnostics.cc:156] kernel driver does not appear to be running on this host (milad-HP): /proc/driver/nvidia/version does not exist\n",
      "2025-02-16 16:23:58.623322: I tensorflow/core/platform/cpu_feature_guard.cc:193] This TensorFlow binary is optimized with oneAPI Deep Neural Network Library (oneDNN) to use the following CPU instructions in performance-critical operations:  AVX2 FMA\n",
      "To enable them in other operations, rebuild TensorFlow with the appropriate compiler flags.\n",
      "2025-02-16 16:23:58.764605: W tensorflow/tsl/framework/cpu_allocator_impl.cc:82] Allocation of 160000400 exceeds 10% of free system memory.\n",
      "2025-02-16 16:23:59.236037: W tensorflow/tsl/framework/cpu_allocator_impl.cc:82] Allocation of 160000400 exceeds 10% of free system memory.\n",
      "2025-02-16 16:23:59.433454: W tensorflow/tsl/framework/cpu_allocator_impl.cc:82] Allocation of 160000400 exceeds 10% of free system memory.\n",
      "2025-02-16 16:23:59.930328: W tensorflow/tsl/framework/cpu_allocator_impl.cc:82] Allocation of 160000400 exceeds 10% of free system memory.\n"
     ]
    },
    {
     "data": {
      "text/plain": [
       "<keras.layers.core.embedding.Embedding at 0x72a3dc0ffa00>"
      ]
     },
     "execution_count": 23,
     "metadata": {},
     "output_type": "execute_result"
    }
   ],
   "source": [
    "e = pretrained_embedding_layer(embeddings_index,words_to_index)\n",
    "e"
   ]
  }
 ],
 "metadata": {
  "kernelspec": {
   "display_name": "Python 3",
   "language": "python",
   "name": "python3"
  },
  "language_info": {
   "codemirror_mode": {
    "name": "ipython",
    "version": 3
   },
   "file_extension": ".py",
   "mimetype": "text/x-python",
   "name": "python",
   "nbconvert_exporter": "python",
   "pygments_lexer": "ipython3",
   "version": "3.10.12"
  }
 },
 "nbformat": 4,
 "nbformat_minor": 2
}

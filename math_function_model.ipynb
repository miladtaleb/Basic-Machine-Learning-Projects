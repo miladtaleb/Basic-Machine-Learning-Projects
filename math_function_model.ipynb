{
 "cells": [
  {
   "cell_type": "code",
   "execution_count": 1,
   "metadata": {},
   "outputs": [
    {
     "name": "stderr",
     "output_type": "stream",
     "text": [
      "2025-02-12 11:24:45.475396: I tensorflow/core/platform/cpu_feature_guard.cc:193] This TensorFlow binary is optimized with oneAPI Deep Neural Network Library (oneDNN) to use the following CPU instructions in performance-critical operations:  AVX2 FMA\n",
      "To enable them in other operations, rebuild TensorFlow with the appropriate compiler flags.\n",
      "2025-02-12 11:24:45.790397: W tensorflow/compiler/xla/stream_executor/platform/default/dso_loader.cc:64] Could not load dynamic library 'libcudart.so.11.0'; dlerror: libcudart.so.11.0: cannot open shared object file: No such file or directory\n",
      "2025-02-12 11:24:45.790435: I tensorflow/compiler/xla/stream_executor/cuda/cudart_stub.cc:29] Ignore above cudart dlerror if you do not have a GPU set up on your machine.\n",
      "2025-02-12 11:24:47.883945: W tensorflow/compiler/xla/stream_executor/platform/default/dso_loader.cc:64] Could not load dynamic library 'libnvinfer.so.7'; dlerror: libnvinfer.so.7: cannot open shared object file: No such file or directory\n",
      "2025-02-12 11:24:47.884078: W tensorflow/compiler/xla/stream_executor/platform/default/dso_loader.cc:64] Could not load dynamic library 'libnvinfer_plugin.so.7'; dlerror: libnvinfer_plugin.so.7: cannot open shared object file: No such file or directory\n",
      "2025-02-12 11:24:47.884092: W tensorflow/compiler/tf2tensorrt/utils/py_utils.cc:38] TF-TRT Warning: Cannot dlopen some TensorRT libraries. If you would like to use Nvidia GPU with TensorRT, please make sure the missing libraries mentioned above are installed properly.\n"
     ]
    }
   ],
   "source": [
    "import tensorflow as tf\n",
    "import numpy as np"
   ]
  },
  {
   "cell_type": "code",
   "execution_count": 2,
   "metadata": {},
   "outputs": [
    {
     "data": {
      "text/plain": [
       "(10000, 1)"
      ]
     },
     "execution_count": 2,
     "metadata": {},
     "output_type": "execute_result"
    }
   ],
   "source": [
    "x = np.linspace(-100,100,10000).reshape(-1,1)\n",
    "x.shape"
   ]
  },
  {
   "cell_type": "code",
   "execution_count": 3,
   "metadata": {},
   "outputs": [],
   "source": [
    "y = np.power(x,3) + (2*np.power(x,2)) + 3"
   ]
  },
  {
   "cell_type": "code",
   "execution_count": 4,
   "metadata": {},
   "outputs": [
    {
     "name": "stderr",
     "output_type": "stream",
     "text": [
      "2025-02-12 11:25:00.320110: W tensorflow/compiler/xla/stream_executor/platform/default/dso_loader.cc:64] Could not load dynamic library 'libcuda.so.1'; dlerror: libcuda.so.1: cannot open shared object file: No such file or directory\n",
      "2025-02-12 11:25:00.320145: W tensorflow/compiler/xla/stream_executor/cuda/cuda_driver.cc:265] failed call to cuInit: UNKNOWN ERROR (303)\n",
      "2025-02-12 11:25:00.320171: I tensorflow/compiler/xla/stream_executor/cuda/cuda_diagnostics.cc:156] kernel driver does not appear to be running on this host (milad-HP): /proc/driver/nvidia/version does not exist\n",
      "2025-02-12 11:25:00.320560: I tensorflow/core/platform/cpu_feature_guard.cc:193] This TensorFlow binary is optimized with oneAPI Deep Neural Network Library (oneDNN) to use the following CPU instructions in performance-critical operations:  AVX2 FMA\n",
      "To enable them in other operations, rebuild TensorFlow with the appropriate compiler flags.\n"
     ]
    }
   ],
   "source": [
    "model = tf.keras.Sequential()\n",
    "model.add(tf.keras.layers.Dense(units=40,activation='sigmoid'))\n",
    "model.add(tf.keras.layers.Dense(units=12,activation='sigmoid'))\n",
    "model.add(tf.keras.layers.Dense(units=1))"
   ]
  },
  {
   "cell_type": "code",
   "execution_count": 5,
   "metadata": {},
   "outputs": [],
   "source": [
    "model.compile(\n",
    "    loss='mean_squared_error',\n",
    "    optimizer='adam',\n",
    "    metrics=['mean_squared_error']\n",
    ")"
   ]
  },
  {
   "cell_type": "code",
   "execution_count": 6,
   "metadata": {},
   "outputs": [
    {
     "name": "stdout",
     "output_type": "stream",
     "text": [
      "Epoch 1/50\n",
      "625/625 [==============================] - 3s 3ms/step - loss: 143021293568.0000 - mean_squared_error: 143021293568.0000\n",
      "Epoch 2/50\n",
      "625/625 [==============================] - 2s 3ms/step - loss: 143019343872.0000 - mean_squared_error: 143019343872.0000\n",
      "Epoch 3/50\n",
      "625/625 [==============================] - 2s 3ms/step - loss: 143017558016.0000 - mean_squared_error: 143017558016.0000\n",
      "Epoch 4/50\n",
      "625/625 [==============================] - 2s 2ms/step - loss: 143015837696.0000 - mean_squared_error: 143015837696.0000\n",
      "Epoch 5/50\n",
      "625/625 [==============================] - 1s 2ms/step - loss: 143014117376.0000 - mean_squared_error: 143014117376.0000\n",
      "Epoch 6/50\n",
      "625/625 [==============================] - 1s 2ms/step - loss: 143012446208.0000 - mean_squared_error: 143012446208.0000\n",
      "Epoch 7/50\n",
      "625/625 [==============================] - 2s 3ms/step - loss: 143010709504.0000 - mean_squared_error: 143010709504.0000\n",
      "Epoch 8/50\n",
      "625/625 [==============================] - 2s 3ms/step - loss: 143009120256.0000 - mean_squared_error: 143009120256.0000\n",
      "Epoch 9/50\n",
      "625/625 [==============================] - 1s 2ms/step - loss: 143007350784.0000 - mean_squared_error: 143007350784.0000\n",
      "Epoch 10/50\n",
      "625/625 [==============================] - 1s 2ms/step - loss: 143005728768.0000 - mean_squared_error: 143005728768.0000\n",
      "Epoch 11/50\n",
      "625/625 [==============================] - 2s 3ms/step - loss: 143004057600.0000 - mean_squared_error: 143004057600.0000\n",
      "Epoch 12/50\n",
      "625/625 [==============================] - 2s 3ms/step - loss: 143002320896.0000 - mean_squared_error: 143002320896.0000\n",
      "Epoch 13/50\n",
      "625/625 [==============================] - 1s 2ms/step - loss: 143000485888.0000 - mean_squared_error: 143000485888.0000\n",
      "Epoch 14/50\n",
      "625/625 [==============================] - 1s 2ms/step - loss: 142998847488.0000 - mean_squared_error: 142998847488.0000\n",
      "Epoch 15/50\n",
      "625/625 [==============================] - 2s 2ms/step - loss: 142997209088.0000 - mean_squared_error: 142997209088.0000\n",
      "Epoch 16/50\n",
      "625/625 [==============================] - 2s 2ms/step - loss: 142995521536.0000 - mean_squared_error: 142995521536.0000\n",
      "Epoch 17/50\n",
      "625/625 [==============================] - 2s 3ms/step - loss: 142993932288.0000 - mean_squared_error: 142993932288.0000\n",
      "Epoch 18/50\n",
      "625/625 [==============================] - 2s 3ms/step - loss: 142992130048.0000 - mean_squared_error: 142992130048.0000\n",
      "Epoch 19/50\n",
      "625/625 [==============================] - 1s 2ms/step - loss: 142990360576.0000 - mean_squared_error: 142990360576.0000\n",
      "Epoch 20/50\n",
      "625/625 [==============================] - 1s 2ms/step - loss: 142988820480.0000 - mean_squared_error: 142988820480.0000\n",
      "Epoch 21/50\n",
      "625/625 [==============================] - 2s 2ms/step - loss: 142987132928.0000 - mean_squared_error: 142987132928.0000\n",
      "Epoch 22/50\n",
      "625/625 [==============================] - 1s 2ms/step - loss: 142985428992.0000 - mean_squared_error: 142985428992.0000\n",
      "Epoch 23/50\n",
      "625/625 [==============================] - 1s 2ms/step - loss: 142983741440.0000 - mean_squared_error: 142983741440.0000\n",
      "Epoch 24/50\n",
      "625/625 [==============================] - 1s 2ms/step - loss: 142981955584.0000 - mean_squared_error: 142981955584.0000\n",
      "Epoch 25/50\n",
      "625/625 [==============================] - 1s 2ms/step - loss: 142980349952.0000 - mean_squared_error: 142980349952.0000\n",
      "Epoch 26/50\n",
      "625/625 [==============================] - 2s 3ms/step - loss: 142978727936.0000 - mean_squared_error: 142978727936.0000\n",
      "Epoch 27/50\n",
      "625/625 [==============================] - 1s 2ms/step - loss: 142976876544.0000 - mean_squared_error: 142976876544.0000\n",
      "Epoch 28/50\n",
      "625/625 [==============================] - 1s 2ms/step - loss: 142975238144.0000 - mean_squared_error: 142975238144.0000\n",
      "Epoch 29/50\n",
      "625/625 [==============================] - 1s 2ms/step - loss: 142973566976.0000 - mean_squared_error: 142973566976.0000\n",
      "Epoch 30/50\n",
      "625/625 [==============================] - 1s 2ms/step - loss: 142971830272.0000 - mean_squared_error: 142971830272.0000\n",
      "Epoch 31/50\n",
      "625/625 [==============================] - 2s 3ms/step - loss: 142970109952.0000 - mean_squared_error: 142970109952.0000\n",
      "Epoch 32/50\n",
      "625/625 [==============================] - 1s 2ms/step - loss: 142968504320.0000 - mean_squared_error: 142968504320.0000\n",
      "Epoch 33/50\n",
      "625/625 [==============================] - 2s 2ms/step - loss: 142966734848.0000 - mean_squared_error: 142966734848.0000\n",
      "Epoch 34/50\n",
      "625/625 [==============================] - 2s 2ms/step - loss: 142965227520.0000 - mean_squared_error: 142965227520.0000\n",
      "Epoch 35/50\n",
      "625/625 [==============================] - 1s 2ms/step - loss: 142963392512.0000 - mean_squared_error: 142963392512.0000\n",
      "Epoch 36/50\n",
      "625/625 [==============================] - 2s 3ms/step - loss: 142961803264.0000 - mean_squared_error: 142961803264.0000\n",
      "Epoch 37/50\n",
      "625/625 [==============================] - 2s 2ms/step - loss: 142960148480.0000 - mean_squared_error: 142960148480.0000\n",
      "Epoch 38/50\n",
      "625/625 [==============================] - 1s 2ms/step - loss: 142958247936.0000 - mean_squared_error: 142958247936.0000\n",
      "Epoch 39/50\n",
      "625/625 [==============================] - 1s 2ms/step - loss: 142956691456.0000 - mean_squared_error: 142956691456.0000\n",
      "Epoch 40/50\n",
      "625/625 [==============================] - 1s 2ms/step - loss: 142955053056.0000 - mean_squared_error: 142955053056.0000\n",
      "Epoch 41/50\n",
      "625/625 [==============================] - 2s 3ms/step - loss: 142953299968.0000 - mean_squared_error: 142953299968.0000\n",
      "Epoch 42/50\n",
      "625/625 [==============================] - 1s 2ms/step - loss: 142951579648.0000 - mean_squared_error: 142951579648.0000\n",
      "Epoch 43/50\n",
      "625/625 [==============================] - 2s 3ms/step - loss: 142950006784.0000 - mean_squared_error: 142950006784.0000\n",
      "Epoch 44/50\n",
      "625/625 [==============================] - 2s 3ms/step - loss: 142948286464.0000 - mean_squared_error: 142948286464.0000\n",
      "Epoch 45/50\n",
      "625/625 [==============================] - 2s 3ms/step - loss: 142946516992.0000 - mean_squared_error: 142946516992.0000\n",
      "Epoch 46/50\n",
      "625/625 [==============================] - 2s 3ms/step - loss: 142944796672.0000 - mean_squared_error: 142944796672.0000\n",
      "Epoch 47/50\n",
      "625/625 [==============================] - 2s 3ms/step - loss: 142943240192.0000 - mean_squared_error: 142943240192.0000\n",
      "Epoch 48/50\n",
      "625/625 [==============================] - 2s 3ms/step - loss: 142941437952.0000 - mean_squared_error: 142941437952.0000\n",
      "Epoch 49/50\n",
      "625/625 [==============================] - 2s 3ms/step - loss: 142939848704.0000 - mean_squared_error: 142939848704.0000\n",
      "Epoch 50/50\n",
      "625/625 [==============================] - 1s 2ms/step - loss: 142938112000.0000 - mean_squared_error: 142938112000.0000\n"
     ]
    },
    {
     "data": {
      "text/plain": [
       "<keras.callbacks.History at 0x7554ec5cd7e0>"
      ]
     },
     "execution_count": 6,
     "metadata": {},
     "output_type": "execute_result"
    }
   ],
   "source": [
    "model.fit(x,y,epochs=50,batch_size=16)"
   ]
  },
  {
   "cell_type": "code",
   "execution_count": 7,
   "metadata": {},
   "outputs": [
    {
     "name": "stdout",
     "output_type": "stream",
     "text": [
      "Model: \"sequential\"\n",
      "_________________________________________________________________\n",
      " Layer (type)                Output Shape              Param #   \n",
      "=================================================================\n",
      " dense (Dense)               (16, 40)                  80        \n",
      "                                                                 \n",
      " dense_1 (Dense)             (16, 12)                  492       \n",
      "                                                                 \n",
      " dense_2 (Dense)             (16, 1)                   13        \n",
      "                                                                 \n",
      "=================================================================\n",
      "Total params: 585\n",
      "Trainable params: 585\n",
      "Non-trainable params: 0\n",
      "_________________________________________________________________\n"
     ]
    }
   ],
   "source": [
    "model.summary()"
   ]
  },
  {
   "cell_type": "code",
   "execution_count": 17,
   "metadata": {},
   "outputs": [
    {
     "name": "stdout",
     "output_type": "stream",
     "text": [
      "1/1 [==============================] - 0s 155ms/step\n"
     ]
    },
    {
     "data": {
      "text/plain": [
       "array([[49.15024]], dtype=float32)"
      ]
     },
     "execution_count": 17,
     "metadata": {},
     "output_type": "execute_result"
    }
   ],
   "source": [
    "model.predict(np.array([3]))"
   ]
  }
 ],
 "metadata": {
  "kernelspec": {
   "display_name": "Python 3",
   "language": "python",
   "name": "python3"
  },
  "language_info": {
   "codemirror_mode": {
    "name": "ipython",
    "version": 3
   },
   "file_extension": ".py",
   "mimetype": "text/x-python",
   "name": "python",
   "nbconvert_exporter": "python",
   "pygments_lexer": "ipython3",
   "version": "3.10.12"
  }
 },
 "nbformat": 4,
 "nbformat_minor": 2
}

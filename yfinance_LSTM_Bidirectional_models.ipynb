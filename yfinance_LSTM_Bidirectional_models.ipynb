{
 "cells": [
  {
   "cell_type": "code",
   "execution_count": 1,
   "metadata": {},
   "outputs": [
    {
     "name": "stdout",
     "output_type": "stream",
     "text": [
      "Defaulting to user installation because normal site-packages is not writeable\n",
      "Collecting yfinance\n",
      "  Downloading yfinance-0.2.53-py2.py3-none-any.whl (108 kB)\n",
      "\u001b[2K     \u001b[90m━━━━━━━━━━━━━━━━━━━━━━━━━━━━━━━━━━━━━\u001b[0m \u001b[32m108.5/108.5 KB\u001b[0m \u001b[31m708.5 kB/s\u001b[0m eta \u001b[36m0:00:00\u001b[0ma \u001b[36m0:00:01\u001b[0m\n",
      "\u001b[?25hRequirement already satisfied: numpy>=1.16.5 in /home/milad/.local/lib/python3.10/site-packages (from yfinance) (1.26.3)\n",
      "Collecting beautifulsoup4>=4.11.1\n",
      "  Downloading beautifulsoup4-4.13.3-py3-none-any.whl (186 kB)\n",
      "\u001b[2K     \u001b[90m━━━━━━━━━━━━━━━━━━━━━━━━━━━━━━━━━━━━━━━\u001b[0m \u001b[32m186.0/186.0 KB\u001b[0m \u001b[31m1.4 MB/s\u001b[0m eta \u001b[36m0:00:00\u001b[0ma \u001b[36m0:00:01\u001b[0m\n",
      "\u001b[?25hCollecting multitasking>=0.0.7\n",
      "  Downloading multitasking-0.0.11-py3-none-any.whl (8.5 kB)\n",
      "Requirement already satisfied: platformdirs>=2.0.0 in /home/milad/.local/lib/python3.10/site-packages (from yfinance) (4.1.0)\n",
      "Collecting peewee>=3.16.2\n",
      "  Downloading peewee-3.17.9.tar.gz (3.0 MB)\n",
      "\u001b[2K     \u001b[90m━━━━━━━━━━━━━━━━━━━━━━━━━━━━━━━━━━━━━━━━\u001b[0m \u001b[32m3.0/3.0 MB\u001b[0m \u001b[31m142.9 kB/s\u001b[0m eta \u001b[36m0:00:00\u001b[0m00:01\u001b[0m00:01\u001b[0m\n",
      "\u001b[?25h  Installing build dependencies ... \u001b[?25ldone\n",
      "\u001b[?25h  Getting requirements to build wheel ... \u001b[?25ldone\n",
      "\u001b[?25h  Preparing metadata (pyproject.toml) ... \u001b[?25ldone\n",
      "\u001b[?25hCollecting pytz>=2022.5\n",
      "  Downloading pytz-2025.1-py2.py3-none-any.whl (507 kB)\n",
      "\u001b[2K     \u001b[90m━━━━━━━━━━━━━━━━━━━━━━━━━━━━━━━━━━━━━\u001b[0m \u001b[32m507.9/507.9 KB\u001b[0m \u001b[31m102.6 kB/s\u001b[0m eta \u001b[36m0:00:00\u001b[0m00:01\u001b[0m00:01\u001b[0m\n",
      "\u001b[?25hCollecting requests>=2.31\n",
      "  Downloading requests-2.32.3-py3-none-any.whl (64 kB)\n",
      "\u001b[2K     \u001b[90m━━━━━━━━━━━━━━━━━━━━━━━━━━━━━━━━━━━━━━━━\u001b[0m \u001b[32m64.9/64.9 KB\u001b[0m \u001b[31m78.9 kB/s\u001b[0m eta \u001b[36m0:00:00\u001b[0ma \u001b[36m0:00:01\u001b[0m\n",
      "\u001b[?25hRequirement already satisfied: pandas>=1.3.0 in /home/milad/.local/lib/python3.10/site-packages (from yfinance) (2.2.3)\n",
      "Collecting frozendict>=2.3.4\n",
      "  Downloading frozendict-2.4.6-cp310-cp310-manylinux_2_17_x86_64.manylinux2014_x86_64.whl (117 kB)\n",
      "\u001b[2K     \u001b[90m━━━━━━━━━━━━━━━━━━━━━━━━━━━━━━━━━━━━━\u001b[0m \u001b[32m117.4/117.4 KB\u001b[0m \u001b[31m112.7 kB/s\u001b[0m eta \u001b[36m0:00:00\u001b[0ma \u001b[36m0:00:01\u001b[0m\n",
      "\u001b[?25hRequirement already satisfied: typing-extensions>=4.0.0 in /home/milad/.local/lib/python3.10/site-packages (from beautifulsoup4>=4.11.1->yfinance) (4.12.2)\n",
      "Collecting soupsieve>1.2\n",
      "  Downloading soupsieve-2.6-py3-none-any.whl (36 kB)\n",
      "Requirement already satisfied: tzdata>=2022.7 in /home/milad/.local/lib/python3.10/site-packages (from pandas>=1.3.0->yfinance) (2023.4)\n",
      "Requirement already satisfied: python-dateutil>=2.8.2 in /home/milad/.local/lib/python3.10/site-packages (from pandas>=1.3.0->yfinance) (2.8.2)\n",
      "Requirement already satisfied: certifi>=2017.4.17 in /usr/lib/python3/dist-packages (from requests>=2.31->yfinance) (2020.6.20)\n",
      "Collecting charset-normalizer<4,>=2\n",
      "  Downloading charset_normalizer-3.4.1-cp310-cp310-manylinux_2_17_x86_64.manylinux2014_x86_64.whl (146 kB)\n",
      "\u001b[2K     \u001b[90m━━━━━━━━━━━━━━━━━━━━━━━━━━━━━━━━━━━━━\u001b[0m \u001b[32m146.1/146.1 KB\u001b[0m \u001b[31m132.3 kB/s\u001b[0m eta \u001b[36m0:00:00\u001b[0ma \u001b[36m0:00:01\u001b[0m\n",
      "\u001b[?25hRequirement already satisfied: urllib3<3,>=1.21.1 in /usr/lib/python3/dist-packages (from requests>=2.31->yfinance) (1.26.5)\n",
      "Requirement already satisfied: idna<4,>=2.5 in /usr/lib/python3/dist-packages (from requests>=2.31->yfinance) (3.3)\n",
      "Requirement already satisfied: six>=1.5 in /usr/lib/python3/dist-packages (from python-dateutil>=2.8.2->pandas>=1.3.0->yfinance) (1.16.0)\n",
      "Building wheels for collected packages: peewee\n",
      "  Building wheel for peewee (pyproject.toml) ... \u001b[?25ldone\n",
      "\u001b[?25h  Created wheel for peewee: filename=peewee-3.17.9-py3-none-any.whl size=139000 sha256=19d370fefe9310262b4f087ee0c3e0c7d9ec52e3ebce756ee134f1d35be697ea\n",
      "  Stored in directory: /home/milad/.cache/pip/wheels/fd/fd/5e/90b9ec95da4fd6c96237b580ce74f89d6bdea547ad151ab5f4\n",
      "Successfully built peewee\n",
      "Installing collected packages: pytz, peewee, multitasking, soupsieve, frozendict, charset-normalizer, requests, beautifulsoup4, yfinance\n",
      "Successfully installed beautifulsoup4-4.13.3 charset-normalizer-3.4.1 frozendict-2.4.6 multitasking-0.0.11 peewee-3.17.9 pytz-2025.1 requests-2.32.3 soupsieve-2.6 yfinance-0.2.53\n"
     ]
    }
   ],
   "source": [
    "!pip install yfinance"
   ]
  },
  {
   "cell_type": "code",
   "execution_count": 2,
   "metadata": {},
   "outputs": [],
   "source": [
    "import pandas as pd\n",
    "import numpy as np\n",
    "import matplotlib.pyplot as plt\n",
    "import yfinance as yf\n",
    "from sklearn.preprocessing import MinMaxScaler\n",
    "from tensorflow.keras.models import Sequential\n",
    "from tensorflow.keras.layers import Dense,LSTM,Bidirectional,Input\n",
    "from tensorflow.keras.utils import plot_model"
   ]
  },
  {
   "cell_type": "code",
   "execution_count": 4,
   "metadata": {},
   "outputs": [
    {
     "name": "stdout",
     "output_type": "stream",
     "text": [
      "YF.download() has changed argument auto_adjust default to True\n"
     ]
    }
   ],
   "source": [
    "ms = yf.download('MSFT',start='2012-01-01',end='2023-12-31',progress=False)"
   ]
  },
  {
   "cell_type": "code",
   "execution_count": 5,
   "metadata": {},
   "outputs": [
    {
     "data": {
      "text/html": [
       "<div>\n",
       "<style scoped>\n",
       "    .dataframe tbody tr th:only-of-type {\n",
       "        vertical-align: middle;\n",
       "    }\n",
       "\n",
       "    .dataframe tbody tr th {\n",
       "        vertical-align: top;\n",
       "    }\n",
       "\n",
       "    .dataframe thead tr th {\n",
       "        text-align: left;\n",
       "    }\n",
       "\n",
       "    .dataframe thead tr:last-of-type th {\n",
       "        text-align: right;\n",
       "    }\n",
       "</style>\n",
       "<table border=\"1\" class=\"dataframe\">\n",
       "  <thead>\n",
       "    <tr>\n",
       "      <th>Price</th>\n",
       "      <th>Close</th>\n",
       "      <th>High</th>\n",
       "      <th>Low</th>\n",
       "      <th>Open</th>\n",
       "      <th>Volume</th>\n",
       "    </tr>\n",
       "    <tr>\n",
       "      <th>Ticker</th>\n",
       "      <th>MSFT</th>\n",
       "      <th>MSFT</th>\n",
       "      <th>MSFT</th>\n",
       "      <th>MSFT</th>\n",
       "      <th>MSFT</th>\n",
       "    </tr>\n",
       "    <tr>\n",
       "      <th>Date</th>\n",
       "      <th></th>\n",
       "      <th></th>\n",
       "      <th></th>\n",
       "      <th></th>\n",
       "      <th></th>\n",
       "    </tr>\n",
       "  </thead>\n",
       "  <tbody>\n",
       "    <tr>\n",
       "      <th>2012-01-03</th>\n",
       "      <td>21.120090</td>\n",
       "      <td>21.269989</td>\n",
       "      <td>20.820290</td>\n",
       "      <td>20.946521</td>\n",
       "      <td>64731500</td>\n",
       "    </tr>\n",
       "    <tr>\n",
       "      <th>2012-01-04</th>\n",
       "      <td>21.617132</td>\n",
       "      <td>21.672358</td>\n",
       "      <td>21.127986</td>\n",
       "      <td>21.159543</td>\n",
       "      <td>80516100</td>\n",
       "    </tr>\n",
       "    <tr>\n",
       "      <th>2012-01-05</th>\n",
       "      <td>21.838039</td>\n",
       "      <td>21.877486</td>\n",
       "      <td>21.530351</td>\n",
       "      <td>21.601355</td>\n",
       "      <td>56081400</td>\n",
       "    </tr>\n",
       "    <tr>\n",
       "      <th>2012-01-06</th>\n",
       "      <td>22.177290</td>\n",
       "      <td>22.240406</td>\n",
       "      <td>21.719701</td>\n",
       "      <td>21.719701</td>\n",
       "      <td>99455500</td>\n",
       "    </tr>\n",
       "    <tr>\n",
       "      <th>2012-01-09</th>\n",
       "      <td>21.885376</td>\n",
       "      <td>22.169397</td>\n",
       "      <td>21.869597</td>\n",
       "      <td>22.129949</td>\n",
       "      <td>59706800</td>\n",
       "    </tr>\n",
       "  </tbody>\n",
       "</table>\n",
       "</div>"
      ],
      "text/plain": [
       "Price           Close       High        Low       Open    Volume\n",
       "Ticker           MSFT       MSFT       MSFT       MSFT      MSFT\n",
       "Date                                                            \n",
       "2012-01-03  21.120090  21.269989  20.820290  20.946521  64731500\n",
       "2012-01-04  21.617132  21.672358  21.127986  21.159543  80516100\n",
       "2012-01-05  21.838039  21.877486  21.530351  21.601355  56081400\n",
       "2012-01-06  22.177290  22.240406  21.719701  21.719701  99455500\n",
       "2012-01-09  21.885376  22.169397  21.869597  22.129949  59706800"
      ]
     },
     "execution_count": 5,
     "metadata": {},
     "output_type": "execute_result"
    }
   ],
   "source": [
    "ms.head()"
   ]
  },
  {
   "cell_type": "code",
   "execution_count": 6,
   "metadata": {},
   "outputs": [
    {
     "data": {
      "text/plain": [
       "(2517, 1)"
      ]
     },
     "execution_count": 6,
     "metadata": {},
     "output_type": "execute_result"
    }
   ],
   "source": [
    "ms[:\"2021\"].Close.values.reshape(-1,1).shape"
   ]
  },
  {
   "cell_type": "code",
   "execution_count": 7,
   "metadata": {},
   "outputs": [],
   "source": [
    "train = ms[:\"2021\"].Close.values.reshape(-1,1)\n",
    "test = ms[\"2022\":].Close.values.reshape(-1,1)"
   ]
  },
  {
   "cell_type": "code",
   "execution_count": 8,
   "metadata": {},
   "outputs": [
    {
     "data": {
      "text/plain": [
       "((2517, 1), (501, 1))"
      ]
     },
     "execution_count": 8,
     "metadata": {},
     "output_type": "execute_result"
    }
   ],
   "source": [
    "train.shape,test.shape"
   ]
  },
  {
   "cell_type": "code",
   "execution_count": 9,
   "metadata": {},
   "outputs": [],
   "source": [
    "scaler = MinMaxScaler()\n",
    "train = scaler.fit_transform(train)\n",
    "test = scaler.transform(test)"
   ]
  },
  {
   "cell_type": "code",
   "execution_count": 10,
   "metadata": {},
   "outputs": [],
   "source": [
    "def convert_data_extra(data,x_step,y_step):\n",
    "  X,Y = [],[]\n",
    "  for i in range(len(data)-x_step-y_step+1):\n",
    "    d=i+x_step\n",
    "\n",
    "    X.append(data[i:d])\n",
    "    Y.append(data[d:d+y_step])\n",
    "\n",
    "  return np.array(X),np.array(Y)"
   ]
  },
  {
   "cell_type": "code",
   "execution_count": 11,
   "metadata": {},
   "outputs": [
    {
     "data": {
      "text/plain": [
       "((2507, 10, 1), (491, 10, 1))"
      ]
     },
     "execution_count": 11,
     "metadata": {},
     "output_type": "execute_result"
    }
   ],
   "source": [
    "x_step=10\n",
    "y_step=1\n",
    "trainX,trainY=convert_data_extra(train,x_step,y_step)\n",
    "testX,testY=convert_data_extra(test,x_step,y_step)\n",
    "trainX.shape,testX.shape"
   ]
  },
  {
   "cell_type": "markdown",
   "metadata": {},
   "source": [
    "## Model1:"
   ]
  },
  {
   "cell_type": "code",
   "execution_count": 12,
   "metadata": {},
   "outputs": [
    {
     "name": "stderr",
     "output_type": "stream",
     "text": [
      "2025-02-15 22:26:17.183326: W tensorflow/compiler/xla/stream_executor/platform/default/dso_loader.cc:64] Could not load dynamic library 'libcuda.so.1'; dlerror: libcuda.so.1: cannot open shared object file: No such file or directory\n",
      "2025-02-15 22:26:17.183371: W tensorflow/compiler/xla/stream_executor/cuda/cuda_driver.cc:265] failed call to cuInit: UNKNOWN ERROR (303)\n",
      "2025-02-15 22:26:17.183402: I tensorflow/compiler/xla/stream_executor/cuda/cuda_diagnostics.cc:156] kernel driver does not appear to be running on this host (milad-HP): /proc/driver/nvidia/version does not exist\n",
      "2025-02-15 22:26:17.183754: I tensorflow/core/platform/cpu_feature_guard.cc:193] This TensorFlow binary is optimized with oneAPI Deep Neural Network Library (oneDNN) to use the following CPU instructions in performance-critical operations:  AVX2 FMA\n",
      "To enable them in other operations, rebuild TensorFlow with the appropriate compiler flags.\n"
     ]
    }
   ],
   "source": [
    "model = Sequential()\n",
    "model.add(LSTM(units=64,activation='tanh',input_shape=(10,1),return_sequences=True))\n",
    "model.add(LSTM(units=64,activation='tanh',input_shape=(None,1),return_sequences=True))\n",
    "model.add(LSTM(units=64,activation='tanh'))\n",
    "model.add(Dense(1))\n",
    "model.compile(loss='mean_squared_error',optimizer='adam')"
   ]
  },
  {
   "cell_type": "code",
   "execution_count": 14,
   "metadata": {},
   "outputs": [
    {
     "name": "stdout",
     "output_type": "stream",
     "text": [
      "Model: \"sequential\"\n",
      "_________________________________________________________________\n",
      " Layer (type)                Output Shape              Param #   \n",
      "=================================================================\n",
      " lstm (LSTM)                 (None, 10, 64)            16896     \n",
      "                                                                 \n",
      " lstm_1 (LSTM)               (None, 10, 64)            33024     \n",
      "                                                                 \n",
      " lstm_2 (LSTM)               (None, 64)                33024     \n",
      "                                                                 \n",
      " dense (Dense)               (None, 1)                 65        \n",
      "                                                                 \n",
      "=================================================================\n",
      "Total params: 83,009\n",
      "Trainable params: 83,009\n",
      "Non-trainable params: 0\n",
      "_________________________________________________________________\n"
     ]
    }
   ],
   "source": [
    "model.summary()"
   ]
  },
  {
   "cell_type": "code",
   "execution_count": 15,
   "metadata": {},
   "outputs": [
    {
     "name": "stdout",
     "output_type": "stream",
     "text": [
      "Epoch 1/20\n",
      "157/157 [==============================] - 12s 21ms/step - loss: 0.0044\n",
      "Epoch 2/20\n",
      "157/157 [==============================] - 4s 23ms/step - loss: 1.9370e-04\n",
      "Epoch 3/20\n",
      "157/157 [==============================] - 4s 23ms/step - loss: 1.8253e-04\n",
      "Epoch 4/20\n",
      "157/157 [==============================] - 4s 23ms/step - loss: 2.2157e-04\n",
      "Epoch 5/20\n",
      "157/157 [==============================] - 3s 22ms/step - loss: 2.4082e-04\n",
      "Epoch 6/20\n",
      "157/157 [==============================] - 3s 22ms/step - loss: 2.4589e-04\n",
      "Epoch 7/20\n",
      "157/157 [==============================] - 4s 23ms/step - loss: 2.4449e-04\n",
      "Epoch 8/20\n",
      "157/157 [==============================] - 3s 21ms/step - loss: 2.0592e-04\n",
      "Epoch 9/20\n",
      "157/157 [==============================] - 3s 21ms/step - loss: 1.9703e-04\n",
      "Epoch 10/20\n",
      "157/157 [==============================] - 4s 25ms/step - loss: 2.4891e-04\n",
      "Epoch 11/20\n",
      "157/157 [==============================] - 4s 24ms/step - loss: 2.5061e-04\n",
      "Epoch 12/20\n",
      "157/157 [==============================] - 4s 23ms/step - loss: 2.3260e-04\n",
      "Epoch 13/20\n",
      "157/157 [==============================] - 4s 23ms/step - loss: 2.0265e-04\n",
      "Epoch 14/20\n",
      "157/157 [==============================] - 4s 24ms/step - loss: 2.1167e-04\n",
      "Epoch 15/20\n",
      "157/157 [==============================] - 4s 25ms/step - loss: 1.9180e-04\n",
      "Epoch 16/20\n",
      "157/157 [==============================] - 4s 23ms/step - loss: 2.9440e-04\n",
      "Epoch 17/20\n",
      "157/157 [==============================] - 3s 21ms/step - loss: 2.1170e-04\n",
      "Epoch 18/20\n",
      "157/157 [==============================] - 3s 22ms/step - loss: 2.0760e-04\n",
      "Epoch 19/20\n",
      "157/157 [==============================] - 4s 23ms/step - loss: 1.6653e-04\n",
      "Epoch 20/20\n",
      "157/157 [==============================] - 4s 23ms/step - loss: 1.9795e-04\n"
     ]
    }
   ],
   "source": [
    "history = model.fit(trainX,trainY,epochs=20,batch_size=16)"
   ]
  },
  {
   "cell_type": "code",
   "execution_count": 22,
   "metadata": {},
   "outputs": [
    {
     "name": "stdout",
     "output_type": "stream",
     "text": [
      "79/79 [==============================] - 1s 11ms/step - loss: 2.4507e-04\n",
      "train score 0.00024507255875505507\n",
      "16/16 [==============================] - 0s 10ms/step - loss: 0.0018\n",
      "test score 0.0017534916987642646\n"
     ]
    }
   ],
   "source": [
    "score = model.evaluate(trainX,trainY)\n",
    "print('train score',score)\n",
    "score = model.evaluate(testX,testY)\n",
    "print('test score',score)"
   ]
  },
  {
   "cell_type": "code",
   "execution_count": 24,
   "metadata": {},
   "outputs": [
    {
     "data": {
      "image/png": "[encoded data removed]",
      "text/plain": [
       "<IPython.core.display.Image object>"
      ]
     },
     "execution_count": 24,
     "metadata": {},
     "output_type": "execute_result"
    }
   ],
   "source": [
    "plot_model(model)"
   ]
  },
  {
   "cell_type": "code",
   "execution_count": 25,
   "metadata": {},
   "outputs": [
    {
     "name": "stdout",
     "output_type": "stream",
     "text": [
      "79/79 [==============================] - 3s 11ms/step\n",
      "16/16 [==============================] - 0s 10ms/step\n"
     ]
    }
   ],
   "source": [
    "train_preds = model.predict(trainX)\n",
    "test_preds = model.predict(testX)"
   ]
  },
  {
   "cell_type": "code",
   "execution_count": 26,
   "metadata": {},
   "outputs": [],
   "source": [
    "predicted=np.concatenate((train_preds,test_preds),axis=0)"
   ]
  },
  {
   "cell_type": "code",
   "execution_count": 27,
   "metadata": {},
   "outputs": [
    {
     "data": {
      "image/png": "[encoded data removed]",
      "text/plain": [
       "<Figure size 640x480 with 1 Axes>"
      ]
     },
     "metadata": {},
     "output_type": "display_data"
    }
   ],
   "source": [
    "plt.plot(ms.Close.values,label='real')\n",
    "plt.plot(scaler.inverse_transform(predicted),label='predicted')\n",
    "plt.axvline(x=len(train),c='r')\n",
    "plt.legend()\n",
    "plt.show()"
   ]
  },
  {
   "cell_type": "markdown",
   "metadata": {},
   "source": [
    "## Model2:"
   ]
  },
  {
   "cell_type": "code",
   "execution_count": 12,
   "metadata": {},
   "outputs": [
    {
     "name": "stdout",
     "output_type": "stream",
     "text": [
      "Model: \"sequential_1\"\n",
      "_________________________________________________________________\n",
      " Layer (type)                Output Shape              Param #   \n",
      "=================================================================\n",
      " bidirectional (Bidirectiona  (None, 10, 128)          33792     \n",
      " l)                                                              \n",
      "                                                                 \n",
      " bidirectional_1 (Bidirectio  (None, 128)              98816     \n",
      " nal)                                                            \n",
      "                                                                 \n",
      " dense (Dense)               (None, 1)                 129       \n",
      "                                                                 \n",
      "=================================================================\n",
      "Total params: 132,737\n",
      "Trainable params: 132,737\n",
      "Non-trainable params: 0\n",
      "_________________________________________________________________\n"
     ]
    }
   ],
   "source": [
    "model2 = Sequential()\n",
    "model2.add(Input(shape = trainX.shape[1:]))\n",
    "model2.add(Bidirectional(LSTM(64,return_sequences=True)))\n",
    "model2.add(Bidirectional(LSTM(64,return_sequences=False)))\n",
    "model2.add(Dense(1))\n",
    "model2.compile(loss='mean_squared_error',optimizer='adam')\n",
    "model2.summary()"
   ]
  },
  {
   "cell_type": "code",
   "execution_count": 14,
   "metadata": {},
   "outputs": [
    {
     "name": "stdout",
     "output_type": "stream",
     "text": [
      "Epoch 1/20\n",
      "157/157 [==============================] - 4s 23ms/step - loss: 4.8571e-04\n",
      "Epoch 2/20\n",
      "157/157 [==============================] - 4s 24ms/step - loss: 1.3385e-04\n",
      "Epoch 3/20\n",
      "157/157 [==============================] - 4s 26ms/step - loss: 1.4260e-04\n",
      "Epoch 4/20\n",
      "157/157 [==============================] - 4s 28ms/step - loss: 1.3573e-04\n",
      "Epoch 5/20\n",
      "157/157 [==============================] - 4s 26ms/step - loss: 1.3992e-04\n",
      "Epoch 6/20\n",
      "157/157 [==============================] - 4s 27ms/step - loss: 1.7528e-04\n",
      "Epoch 7/20\n",
      "157/157 [==============================] - 3s 21ms/step - loss: 2.3595e-04\n",
      "Epoch 8/20\n",
      "157/157 [==============================] - 4s 23ms/step - loss: 1.6292e-04\n",
      "Epoch 9/20\n",
      "157/157 [==============================] - 4s 23ms/step - loss: 1.5688e-04\n",
      "Epoch 10/20\n",
      "157/157 [==============================] - 4s 24ms/step - loss: 1.5056e-04\n",
      "Epoch 11/20\n",
      "157/157 [==============================] - 4s 24ms/step - loss: 1.3166e-04\n",
      "Epoch 12/20\n",
      "157/157 [==============================] - 4s 24ms/step - loss: 1.7325e-04\n",
      "Epoch 13/20\n",
      "157/157 [==============================] - 4s 26ms/step - loss: 1.5131e-04\n",
      "Epoch 14/20\n",
      "157/157 [==============================] - 4s 24ms/step - loss: 1.2615e-04\n",
      "Epoch 15/20\n",
      "157/157 [==============================] - 4s 24ms/step - loss: 1.9363e-04\n",
      "Epoch 16/20\n",
      "157/157 [==============================] - 4s 24ms/step - loss: 1.2498e-04\n",
      "Epoch 17/20\n",
      "157/157 [==============================] - 5s 31ms/step - loss: 1.1501e-04\n",
      "Epoch 18/20\n",
      "157/157 [==============================] - 4s 25ms/step - loss: 1.4607e-04\n",
      "Epoch 19/20\n",
      "157/157 [==============================] - 4s 26ms/step - loss: 1.1990e-04\n",
      "Epoch 20/20\n",
      "157/157 [==============================] - 5s 30ms/step - loss: 1.1718e-04\n"
     ]
    }
   ],
   "source": [
    "history2 = model2.fit(trainX,trainY,epochs=20,batch_size=16)"
   ]
  },
  {
   "cell_type": "code",
   "execution_count": 15,
   "metadata": {},
   "outputs": [
    {
     "name": "stdout",
     "output_type": "stream",
     "text": [
      "79/79 [==============================] - 3s 9ms/step\n",
      "16/16 [==============================] - 0s 11ms/step\n"
     ]
    }
   ],
   "source": [
    "train_preds = model2.predict(trainX)\n",
    "test_preds = model2.predict(testX)\n",
    "predicted = np.concatenate((train_preds,test_preds),axis=0)"
   ]
  },
  {
   "cell_type": "code",
   "execution_count": 16,
   "metadata": {},
   "outputs": [
    {
     "data": {
      "image/png": "[encoded data removed]",
      "text/plain": [
       "<Figure size 640x480 with 1 Axes>"
      ]
     },
     "metadata": {},
     "output_type": "display_data"
    }
   ],
   "source": [
    "plt.plot(ms.Close.values,label='real')\n",
    "plt.plot(scaler.inverse_transform(predicted),label='predicted')\n",
    "plt.axvline(x = len(train),c='r')\n",
    "plt.legend()\n",
    "plt.show()"
   ]
  }
 ],
 "metadata": {
  "kernelspec": {
   "display_name": "Python 3",
   "language": "python",
   "name": "python3"
  },
  "language_info": {
   "codemirror_mode": {
    "name": "ipython",
    "version": 3
   },
   "file_extension": ".py",
   "mimetype": "text/x-python",
   "name": "python",
   "nbconvert_exporter": "python",
   "pygments_lexer": "ipython3",
   "version": "3.10.12"
  }
 },
 "nbformat": 4,
 "nbformat_minor": 2
}

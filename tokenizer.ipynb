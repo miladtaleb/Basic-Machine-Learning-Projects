{
 "cells": [
  {
   "cell_type": "code",
   "execution_count": 18,
   "metadata": {},
   "outputs": [],
   "source": [
    "import numpy as np\n",
    "import pandas as pd\n",
    "import matplotlib.pyplot as plt\n",
    "from sklearn.utils import resample\n",
    "from tensorflow.keras.preprocessing.text import Tokenizer\n",
    "from tensorflow.keras.preprocessing.sequence import pad_sequences\n",
    "from sklearn.model_selection import train_test_split\n",
    "from tensorflow.keras.models import Sequential\n",
    "from tensorflow.keras.layers import LSTM,Dense,Embedding"
   ]
  },
  {
   "cell_type": "code",
   "execution_count": 2,
   "metadata": {},
   "outputs": [],
   "source": [
    "prefix_url='https://graphemy.ir/datasets'\n",
    "def get_file(name):\n",
    "    return f'{prefix_url}/{name}'"
   ]
  },
  {
   "cell_type": "code",
   "execution_count": 3,
   "metadata": {},
   "outputs": [
    {
     "data": {
      "text/html": [
       "<div>\n",
       "<style scoped>\n",
       "    .dataframe tbody tr th:only-of-type {\n",
       "        vertical-align: middle;\n",
       "    }\n",
       "\n",
       "    .dataframe tbody tr th {\n",
       "        vertical-align: top;\n",
       "    }\n",
       "\n",
       "    .dataframe thead th {\n",
       "        text-align: right;\n",
       "    }\n",
       "</style>\n",
       "<table border=\"1\" class=\"dataframe\">\n",
       "  <thead>\n",
       "    <tr style=\"text-align: right;\">\n",
       "      <th></th>\n",
       "      <th>Text</th>\n",
       "      <th>Score</th>\n",
       "      <th>Suggestion</th>\n",
       "    </tr>\n",
       "  </thead>\n",
       "  <tbody>\n",
       "    <tr>\n",
       "      <th>0</th>\n",
       "      <td>این اولین تجربه من برای خرید ایفون هست   امروز...</td>\n",
       "      <td>100</td>\n",
       "      <td>1</td>\n",
       "    </tr>\n",
       "    <tr>\n",
       "      <th>1</th>\n",
       "      <td>خرید این محصول رو توصیه میکنم</td>\n",
       "      <td>84</td>\n",
       "      <td>1</td>\n",
       "    </tr>\n",
       "    <tr>\n",
       "      <th>2</th>\n",
       "      <td>1 ساله این گوشی رو دارم   هیچ نقطه ضعفی ازش ند...</td>\n",
       "      <td>60</td>\n",
       "      <td>1</td>\n",
       "    </tr>\n",
       "    <tr>\n",
       "      <th>3</th>\n",
       "      <td>سلام خدمت دوستان این گوشی از همه نظر عالی  کیف...</td>\n",
       "      <td>96</td>\n",
       "      <td>1</td>\n",
       "    </tr>\n",
       "    <tr>\n",
       "      <th>4</th>\n",
       "      <td>سلام دوستانی که نگران شکستن صفحه نمایش هستند ا...</td>\n",
       "      <td>92</td>\n",
       "      <td>1</td>\n",
       "    </tr>\n",
       "  </tbody>\n",
       "</table>\n",
       "</div>"
      ],
      "text/plain": [
       "                                                Text  Score  Suggestion\n",
       "0  این اولین تجربه من برای خرید ایفون هست   امروز...    100           1\n",
       "1                     خرید این محصول رو توصیه میکنم      84           1\n",
       "2  1 ساله این گوشی رو دارم   هیچ نقطه ضعفی ازش ند...     60           1\n",
       "3  سلام خدمت دوستان این گوشی از همه نظر عالی  کیف...     96           1\n",
       "4  سلام دوستانی که نگران شکستن صفحه نمایش هستند ا...     92           1"
      ]
     },
     "execution_count": 3,
     "metadata": {},
     "output_type": "execute_result"
    }
   ],
   "source": [
    "df = pd.read_csv(get_file('dg_data.csv'))\n",
    "df.head()"
   ]
  },
  {
   "cell_type": "code",
   "execution_count": 4,
   "metadata": {},
   "outputs": [
    {
     "data": {
      "text/plain": [
       "Suggestion\n",
       "1    2382\n",
       "3     460\n",
       "2     419\n",
       "Name: count, dtype: int64"
      ]
     },
     "execution_count": 4,
     "metadata": {},
     "output_type": "execute_result"
    }
   ],
   "source": [
    "df.Suggestion.value_counts()"
   ]
  },
  {
   "cell_type": "code",
   "execution_count": 5,
   "metadata": {},
   "outputs": [
    {
     "data": {
      "text/plain": [
       "Suggestion\n",
       "1    2801\n",
       "0     460\n",
       "Name: count, dtype: int64"
      ]
     },
     "execution_count": 5,
     "metadata": {},
     "output_type": "execute_result"
    }
   ],
   "source": [
    "df['Suggestion'] = df['Suggestion'].replace(2,1)\n",
    "df['Suggestion'] = df['Suggestion'].replace(3,0)\n",
    "df.Suggestion.value_counts()"
   ]
  },
  {
   "cell_type": "code",
   "execution_count": 7,
   "metadata": {},
   "outputs": [
    {
     "data": {
      "text/plain": [
       "Suggestion\n",
       "1    2801\n",
       "0    2801\n",
       "Name: count, dtype: int64"
      ]
     },
     "execution_count": 7,
     "metadata": {},
     "output_type": "execute_result"
    }
   ],
   "source": [
    "minority = df[df['Suggestion']==0]\n",
    "majority = df[df['Suggestion']==1]\n",
    "df_upsampled = resample(minority,replace=True,n_samples=len(majority),random_state=43)\n",
    "df = pd.concat([majority,df_upsampled])\n",
    "df.Suggestion.value_counts()"
   ]
  },
  {
   "cell_type": "code",
   "execution_count": 8,
   "metadata": {},
   "outputs": [],
   "source": [
    "embedding_vector_length = 300\n",
    "sentences_max_length = 70\n",
    "lstm_units = 64\n",
    "oov_token= \"<OOV>\""
   ]
  },
  {
   "cell_type": "code",
   "execution_count": 10,
   "metadata": {},
   "outputs": [
    {
     "name": "stdout",
     "output_type": "stream",
     "text": [
      "12126\n"
     ]
    }
   ],
   "source": [
    "texts = df.Text.values\n",
    "labels = df.Suggestion.values\n",
    "tokenizer = Tokenizer(num_words = 3000,oov_token = oov_token)\n",
    "tokenizer.fit_on_texts(texts)\n",
    "vocab_size = len(tokenizer.word_index) + 1\n",
    "print(vocab_size)"
   ]
  },
  {
   "cell_type": "code",
   "execution_count": 11,
   "metadata": {},
   "outputs": [
    {
     "data": {
      "text/plain": [
       "[[11, 12, 2141, 63]]"
      ]
     },
     "execution_count": 11,
     "metadata": {},
     "output_type": "execute_result"
    }
   ],
   "source": [
    "tokenizer.texts_to_sequences(['من خیلی حالم خوبه'])"
   ]
  },
  {
   "cell_type": "code",
   "execution_count": 12,
   "metadata": {},
   "outputs": [
    {
     "data": {
      "text/plain": [
       "[[11, 2141, 63]]"
      ]
     },
     "execution_count": 12,
     "metadata": {},
     "output_type": "execute_result"
    }
   ],
   "source": [
    "tokenizer.texts_to_sequences(['من حالم خوبه'])"
   ]
  },
  {
   "cell_type": "code",
   "execution_count": 13,
   "metadata": {},
   "outputs": [
    {
     "data": {
      "text/plain": [
       "[[11, 2141, 63]]"
      ]
     },
     "execution_count": 13,
     "metadata": {},
     "output_type": "execute_result"
    }
   ],
   "source": [
    "encoded_texts = tokenizer.texts_to_sequences(['من حالم خوبه'])\n",
    "encoded_texts"
   ]
  },
  {
   "cell_type": "code",
   "execution_count": 14,
   "metadata": {},
   "outputs": [
    {
     "data": {
      "text/plain": [
       "5602"
      ]
     },
     "execution_count": 14,
     "metadata": {},
     "output_type": "execute_result"
    }
   ],
   "source": [
    "encoded_texts = tokenizer.texts_to_sequences(texts)\n",
    "len(encoded_texts)"
   ]
  },
  {
   "cell_type": "code",
   "execution_count": 15,
   "metadata": {},
   "outputs": [
    {
     "data": {
      "text/plain": [
       "(5602, 70)"
      ]
     },
     "execution_count": 15,
     "metadata": {},
     "output_type": "execute_result"
    }
   ],
   "source": [
    "padded_sequence = pad_sequences(encoded_texts,maxlen=sentences_max_length,padding='post')\n",
    "padded_sequence.shape"
   ]
  },
  {
   "cell_type": "code",
   "execution_count": 17,
   "metadata": {},
   "outputs": [
    {
     "data": {
      "text/plain": [
       "((3921, 70), (1681, 70))"
      ]
     },
     "execution_count": 17,
     "metadata": {},
     "output_type": "execute_result"
    }
   ],
   "source": [
    "X_train,X_test,y_train,y_test = train_test_split(padded_sequence,labels,test_size=0.3,shuffle=True,random_state=1403)\n",
    "X_train.shape,X_test.shape"
   ]
  },
  {
   "cell_type": "code",
   "execution_count": 19,
   "metadata": {},
   "outputs": [
    {
     "name": "stderr",
     "output_type": "stream",
     "text": [
      "2025-02-16 17:06:42.173474: W tensorflow/compiler/xla/stream_executor/platform/default/dso_loader.cc:64] Could not load dynamic library 'libcuda.so.1'; dlerror: libcuda.so.1: cannot open shared object file: No such file or directory\n",
      "2025-02-16 17:06:42.173538: W tensorflow/compiler/xla/stream_executor/cuda/cuda_driver.cc:265] failed call to cuInit: UNKNOWN ERROR (303)\n",
      "2025-02-16 17:06:42.173570: I tensorflow/compiler/xla/stream_executor/cuda/cuda_diagnostics.cc:156] kernel driver does not appear to be running on this host (milad-HP): /proc/driver/nvidia/version does not exist\n",
      "2025-02-16 17:06:42.174004: I tensorflow/core/platform/cpu_feature_guard.cc:193] This TensorFlow binary is optimized with oneAPI Deep Neural Network Library (oneDNN) to use the following CPU instructions in performance-critical operations:  AVX2 FMA\n",
      "To enable them in other operations, rebuild TensorFlow with the appropriate compiler flags.\n"
     ]
    },
    {
     "name": "stdout",
     "output_type": "stream",
     "text": [
      "Model: \"sequential\"\n",
      "_________________________________________________________________\n",
      " Layer (type)                Output Shape              Param #   \n",
      "=================================================================\n",
      " embedding (Embedding)       (None, 70, 300)           3637800   \n",
      "                                                                 \n",
      " lstm (LSTM)                 (None, 64)                93440     \n",
      "                                                                 \n",
      " dense (Dense)               (None, 64)                4160      \n",
      "                                                                 \n",
      " dense_1 (Dense)             (None, 1)                 65        \n",
      "                                                                 \n",
      "=================================================================\n",
      "Total params: 3,735,465\n",
      "Trainable params: 3,735,465\n",
      "Non-trainable params: 0\n",
      "_________________________________________________________________\n"
     ]
    }
   ],
   "source": [
    "model = Sequential()\n",
    "model.add(Embedding(input_dim = vocab_size,output_dim = embedding_vector_length,input_length = sentences_max_length))\n",
    "model.add(LSTM(64))\n",
    "model.add(Dense(64,activation='relu'))\n",
    "model.add(Dense(1,activation='sigmoid'))\n",
    "model.compile(loss='binary_crossentropy',optimizer='adam',metrics=['accuracy'])\n",
    "model.summary()"
   ]
  },
  {
   "cell_type": "code",
   "execution_count": 20,
   "metadata": {},
   "outputs": [
    {
     "name": "stdout",
     "output_type": "stream",
     "text": [
      "Epoch 1/20\n",
      "123/123 [==============================] - 28s 193ms/step - loss: 0.6070 - accuracy: 0.6389 - val_loss: 0.4124 - val_accuracy: 0.8281\n",
      "Epoch 2/20\n",
      "123/123 [==============================] - 20s 166ms/step - loss: 0.4218 - accuracy: 0.8210 - val_loss: 1.1567 - val_accuracy: 0.5925\n",
      "Epoch 3/20\n",
      "123/123 [==============================] - 20s 162ms/step - loss: 0.4881 - accuracy: 0.7659 - val_loss: 0.3765 - val_accuracy: 0.8662\n",
      "Epoch 4/20\n",
      "123/123 [==============================] - 22s 180ms/step - loss: 0.3066 - accuracy: 0.9031 - val_loss: 0.3962 - val_accuracy: 0.8537\n",
      "Epoch 5/20\n",
      "123/123 [==============================] - 21s 169ms/step - loss: 0.2828 - accuracy: 0.9100 - val_loss: 0.3777 - val_accuracy: 0.8667\n",
      "Epoch 6/20\n",
      "123/123 [==============================] - 21s 168ms/step - loss: 0.2792 - accuracy: 0.9041 - val_loss: 0.3666 - val_accuracy: 0.8465\n",
      "Epoch 7/20\n",
      "123/123 [==============================] - 20s 162ms/step - loss: 0.3651 - accuracy: 0.8669 - val_loss: 0.5504 - val_accuracy: 0.7698\n",
      "Epoch 8/20\n",
      "123/123 [==============================] - 21s 167ms/step - loss: 0.3674 - accuracy: 0.8141 - val_loss: 0.2831 - val_accuracy: 0.8989\n",
      "Epoch 9/20\n",
      "123/123 [==============================] - 19s 158ms/step - loss: 0.2515 - accuracy: 0.9163 - val_loss: 0.2965 - val_accuracy: 0.9030\n",
      "Epoch 10/20\n",
      "123/123 [==============================] - 20s 163ms/step - loss: 0.2307 - accuracy: 0.9260 - val_loss: 0.3115 - val_accuracy: 0.8929\n",
      "Epoch 11/20\n",
      "123/123 [==============================] - 20s 164ms/step - loss: 0.1963 - accuracy: 0.9352 - val_loss: 0.2799 - val_accuracy: 0.8763\n",
      "Epoch 12/20\n",
      "123/123 [==============================] - 20s 165ms/step - loss: 0.2428 - accuracy: 0.9181 - val_loss: 0.3320 - val_accuracy: 0.8840\n",
      "Epoch 13/20\n",
      "123/123 [==============================] - 22s 182ms/step - loss: 0.1967 - accuracy: 0.9419 - val_loss: 0.2868 - val_accuracy: 0.9036\n",
      "Epoch 14/20\n",
      "123/123 [==============================] - 22s 176ms/step - loss: 0.1755 - accuracy: 0.9472 - val_loss: 0.2765 - val_accuracy: 0.9191\n",
      "Epoch 15/20\n",
      "123/123 [==============================] - 22s 176ms/step - loss: 0.1508 - accuracy: 0.9531 - val_loss: 0.2640 - val_accuracy: 0.8989\n",
      "Epoch 16/20\n",
      "123/123 [==============================] - 21s 170ms/step - loss: 0.1888 - accuracy: 0.9419 - val_loss: 0.2697 - val_accuracy: 0.9114\n",
      "Epoch 17/20\n",
      "123/123 [==============================] - 21s 168ms/step - loss: 0.1810 - accuracy: 0.9398 - val_loss: 0.2749 - val_accuracy: 0.9161\n",
      "Epoch 18/20\n",
      "123/123 [==============================] - 23s 184ms/step - loss: 0.1561 - accuracy: 0.9533 - val_loss: 0.3444 - val_accuracy: 0.9024\n",
      "Epoch 19/20\n",
      "123/123 [==============================] - 26s 211ms/step - loss: 0.1816 - accuracy: 0.9462 - val_loss: 0.2906 - val_accuracy: 0.9090\n",
      "Epoch 20/20\n",
      "123/123 [==============================] - 26s 211ms/step - loss: 0.1889 - accuracy: 0.9406 - val_loss: 0.3068 - val_accuracy: 0.9001\n"
     ]
    }
   ],
   "source": [
    "n_epochs = 20\n",
    "history = model.fit(X_train,y_train,epochs = n_epochs, validation_data=[X_test,y_test],verbose =1 )"
   ]
  },
  {
   "cell_type": "code",
   "execution_count": 21,
   "metadata": {},
   "outputs": [
    {
     "name": "stdout",
     "output_type": "stream",
     "text": [
      "53/53 [==============================] - 2s 31ms/step - loss: 0.3068 - accuracy: 0.9001\n"
     ]
    },
    {
     "data": {
      "text/plain": [
       "[0.30675095319747925, 0.9000594615936279]"
      ]
     },
     "execution_count": 21,
     "metadata": {},
     "output_type": "execute_result"
    }
   ],
   "source": [
    "model.evaluate(X_test,y_test)"
   ]
  },
  {
   "cell_type": "code",
   "execution_count": 22,
   "metadata": {},
   "outputs": [],
   "source": [
    "text1 = 'این محصول اصلا به درد نمی‌خوره'\n",
    "text2 = 'خیلی کار من رو راه انداخت'"
   ]
  },
  {
   "cell_type": "code",
   "execution_count": 23,
   "metadata": {},
   "outputs": [],
   "source": [
    "seq1 = tokenizer.texts_to_sequences([text1])\n",
    "seq2 = tokenizer.texts_to_sequences([text2])\n",
    "pad1 = pad_sequences(seq1,maxlen = sentences_max_length,padding='post')\n",
    "pad2 = pad_sequences(seq2,maxlen = sentences_max_length,padding='post')"
   ]
  },
  {
   "cell_type": "code",
   "execution_count": 24,
   "metadata": {},
   "outputs": [
    {
     "name": "stdout",
     "output_type": "stream",
     "text": [
      "1/1 [==============================] - 3s 3s/step\n"
     ]
    },
    {
     "data": {
      "text/plain": [
       "array([[0.24846216]], dtype=float32)"
      ]
     },
     "execution_count": 24,
     "metadata": {},
     "output_type": "execute_result"
    }
   ],
   "source": [
    "model.predict(pad1)"
   ]
  },
  {
   "cell_type": "code",
   "execution_count": 25,
   "metadata": {},
   "outputs": [
    {
     "name": "stdout",
     "output_type": "stream",
     "text": [
      "1/1 [==============================] - 0s 35ms/step\n"
     ]
    },
    {
     "data": {
      "text/plain": [
       "array([[0.9537939]], dtype=float32)"
      ]
     },
     "execution_count": 25,
     "metadata": {},
     "output_type": "execute_result"
    }
   ],
   "source": [
    "model.predict(pad2)"
   ]
  }
 ],
 "metadata": {
  "kernelspec": {
   "display_name": "Python 3",
   "language": "python",
   "name": "python3"
  },
  "language_info": {
   "codemirror_mode": {
    "name": "ipython",
    "version": 3
   },
   "file_extension": ".py",
   "mimetype": "text/x-python",
   "name": "python",
   "nbconvert_exporter": "python",
   "pygments_lexer": "ipython3",
   "version": "3.10.12"
  }
 },
 "nbformat": 4,
 "nbformat_minor": 2
}
